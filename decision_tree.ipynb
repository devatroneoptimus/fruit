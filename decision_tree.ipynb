{
  "nbformat": 4,
  "nbformat_minor": 0,
  "metadata": {
    "colab": {
      "provenance": []
    },
    "kernelspec": {
      "name": "python3",
      "display_name": "Python 3"
    },
    "language_info": {
      "name": "python"
    }
  },
  "cells": [
    {
      "cell_type": "code",
      "source": [],
      "metadata": {
        "id": "Hxl144oxJzrU"
      },
      "execution_count": null,
      "outputs": []
    },
    {
      "cell_type": "markdown",
      "source": [],
      "metadata": {
        "id": "ie3t-u-mlLQ2"
      }
    },
    {
      "cell_type": "markdown",
      "source": [
        "You have 10 examples of fruit. For each example, you have\n",
        "Three features\n",
        "Color (Brown or Red),\n",
        "throns_Shape (Tapering  or Enlarging), and\n",
        "Solitary (Yes or No)\n",
        "Label\n",
        "Edible (1 indicating yes or 0 indicating poisonous)"
      ],
      "metadata": {
        "id": "vxFCXgukjB6z"
      }
    },
    {
      "cell_type": "markdown",
      "source": [],
      "metadata": {
        "id": "3BkEfd_cJ1Qt"
      }
    },
    {
      "cell_type": "markdown",
      "source": [
        "For ease of implementation, we have one-hot encoded the features (turned them into 0 or 1 valued features)"
      ],
      "metadata": {
        "id": "GF2QHLspk89D"
      }
    },
    {
      "cell_type": "code",
      "execution_count": 1,
      "metadata": {
        "id": "gVEn5A7RVzon"
      },
      "outputs": [],
      "source": [
        "import numpy as np\n",
        "x_train = np.array([[1,1,1],[1,0,1],[1,0,0],[1,0,0],[1,1,1],[0,1,1],[0,0,0],[1,0,1],[0,1,0],[1,0,0]])\n",
        "y_train = np.array([1,1,0,0,1,0,0,1,1,0])\n",
        "\n"
      ]
    },
    {
      "cell_type": "code",
      "source": [
        "def compute_entropy(y):\n",
        "  entropy=0\n",
        "  if len(y)!=0:\n",
        "    p1=len(y[y==1])/len(y)\n",
        "    if p1!=0 and p1!=1:\n",
        "        entropy = -p1 * np.log2(p1) - (1 - p1) * np.log2(1 - p1)\n",
        "    else:\n",
        "             entropy = 0\n",
        "  return entropy\n"
      ],
      "metadata": {
        "id": "TGh0XNsEV5iW"
      },
      "execution_count": 2,
      "outputs": []
    },
    {
      "cell_type": "code",
      "source": [
        "z=compute_entropy(y_train)\n",
        "print(z)"
      ],
      "metadata": {
        "colab": {
          "base_uri": "https://localhost:8080/"
        },
        "id": "bgcb660nax_z",
        "outputId": "dd2931de-8c94-4625-fa1c-165bbea387c7"
      },
      "execution_count": 4,
      "outputs": [
        {
          "output_type": "stream",
          "name": "stdout",
          "text": [
            "1.0\n"
          ]
        }
      ]
    },
    {
      "cell_type": "code",
      "source": [
        "def split_dataset(x,node_indices,feature):\n",
        "\n",
        "  node_indices=[0,1,2,3,4,5,6,7,8,9]\n",
        "\n",
        "  left_indices=[]\n",
        "  right_indices=[]\n",
        "  for i in node_indices:\n",
        "\n",
        "    if np.any(x[i][feature]==1):\n",
        "         left_indices.append(i)\n",
        "    else:\n",
        "            right_indices.append(i)\n",
        "  return left_indices,right_indices"
      ],
      "metadata": {
        "id": "gLf3qlOPV5lG"
      },
      "execution_count": 24,
      "outputs": []
    },
    {
      "cell_type": "code",
      "source": [
        "node_indices=[0,1,2,3,4,5,6,7,8,9]\n",
        "feature=0\n",
        "left_indices,right_indices=split_dataset(x_train,node_indices,feature)\n",
        "print('left=',left_indices)\n",
        "print ('right=',right_indices)\n",
        "feature=1\n",
        "left_indices,right_indices=split_dataset(x_train,node_indices,feature)\n",
        "print('left=',left_indices)\n",
        "print ('right=,',right_indices)\n",
        "feature=2\n",
        "left_indices,right_indices=split_dataset(x_train,node_indices,feature)\n",
        "print('left=',left_indices)\n",
        "print ('right=',right_indices)\n",
        "\n",
        "\n",
        "\n"
      ],
      "metadata": {
        "colab": {
          "base_uri": "https://localhost:8080/"
        },
        "id": "4kkHLUvjV5nd",
        "outputId": "9931324d-5027-4091-84a1-c9eaa2dc86a8"
      },
      "execution_count": 5,
      "outputs": [
        {
          "output_type": "stream",
          "name": "stdout",
          "text": [
            "left= [0, 1, 2, 3, 4, 7, 9]\n",
            "right= [5, 6, 8]\n",
            "left= [0, 4, 5, 8]\n",
            "right=, [1, 2, 3, 6, 7, 9]\n",
            "left= [0, 1, 4, 5, 7]\n",
            "right= [2, 3, 6, 8, 9]\n"
          ]
        }
      ]
    },
    {
      "cell_type": "code",
      "source": [
        "def compute_infogain(x,y,feature,node_indices):\n",
        "    left_indices,right_indices=split_dataset(x_train,node_indices,feature)\n",
        "    X_node, y_node = x[node_indices], y[node_indices]\n",
        "    X_left, y_left = x[left_indices], y[left_indices]\n",
        "    X_right, y_right = x[right_indices], y[right_indices]\n",
        "    information_gain=0\n",
        "    node_entropy=compute_entropy(y_node)\n",
        "    left_entropy=compute_entropy(y_left)\n",
        "    right_entropy = compute_entropy(y_right)\n",
        "\n",
        "    w_left = len(X_left) / len(X_node)\n",
        "    w_right = len(X_right) / len(X_node)\n",
        "\n",
        "    weighted_entropy = w_left * left_entropy + w_right * right_entropy\n",
        "    information_gain = node_entropy - weighted_entropy\n",
        "    return information_gain\n",
        "\n"
      ],
      "metadata": {
        "id": "WLbFNbqcV5pu"
      },
      "execution_count": 29,
      "outputs": []
    },
    {
      "cell_type": "code",
      "source": [
        "root_indices=[0,1,2,3,4,5,6,7,8,9]\n",
        "feature=0\n",
        "compute_infogain(x_train,y_train,feature,root_indices)\n",
        "print('Information Gain from splitting the root on brown cap:',  compute_infogain(x_train,y_train,feature,root_indices))\n",
        "feature=1\n",
        "compute_infogain(x_train,y_train,feature,root_indices)\n",
        "print('Information Gain from splitting the root on tapering stalk shape:',compute_infogain(x_train,y_train,feature,root_indices ))\n",
        "feature=2\n",
        "print('Information Gain from splitting the root on solitary:',compute_infogain(x_train,y_train,feature,root_indices ))\n",
        "\n"
      ],
      "metadata": {
        "id": "FOKOw2nY68ct",
        "colab": {
          "base_uri": "https://localhost:8080/"
        },
        "outputId": "805d9ba6-6045-47be-8e46-08809b233f34"
      },
      "execution_count": 7,
      "outputs": [
        {
          "output_type": "stream",
          "name": "stdout",
          "text": [
            "Information Gain from splitting the root on brown cap: 0.034851554559677034\n",
            "Information Gain from splitting the root on tapering stalk shape: 0.12451124978365313\n",
            "Information Gain from splitting the root on solitary: 0.2780719051126377\n"
          ]
        }
      ]
    },
    {
      "cell_type": "code",
      "source": [
        "def get_best_split(x, y, node_indices):\n",
        "\n",
        "    num_features = x.shape[1]\n",
        "\n",
        "\n",
        "    best_feature = None\n",
        "    max_info_gain=0\n",
        "    for feature in range(num_features):\n",
        "        info_gain = compute_infogain(x, y, feature,node_indices)\n",
        "        if info_gain > max_info_gain:\n",
        "            max_info_gain = info_gain\n",
        "            best_feature = feature\n",
        "    return best_feature"
      ],
      "metadata": {
        "id": "B0nogKL6V5u1"
      },
      "execution_count": 8,
      "outputs": []
    },
    {
      "cell_type": "code",
      "source": [
        "root_indices= [0,1,2,3,4,5,6,7,8,9]\n",
        "best_feature = get_best_split(x_train, y_train, root_indices)\n",
        "print(\"Best feature to split on: \", best_feature)\n",
        "\n"
      ],
      "metadata": {
        "colab": {
          "base_uri": "https://localhost:8080/"
        },
        "id": "Hq4irnDKV5xn",
        "outputId": "143d764b-0ba4-4bd1-bb23-16d0bcae94af"
      },
      "execution_count": 9,
      "outputs": [
        {
          "output_type": "stream",
          "name": "stdout",
          "text": [
            "Best feature to split on:  2\n"
          ]
        }
      ]
    },
    {
      "cell_type": "code",
      "source": [
        "\n",
        ""
      ],
      "metadata": {
        "id": "by96ypApQ_Hn"
      },
      "execution_count": null,
      "outputs": []
    },
    {
      "cell_type": "code",
      "source": [
        "def build_tree_recursive(x, y, node_indices, branch_name, max_depth, current_depth, tree):\n",
        "\n",
        "\n",
        "    if current_depth == max_depth:\n",
        "        tree.append((branch_name, node_indices))\n",
        "        return\n",
        "\n",
        "\n",
        "    best_feature = get_best_split(x, y, node_indices)\n",
        "\n",
        "\n",
        "    left_indices, right_indices = split_dataset(x, node_indices, best_feature)\n",
        "    tree.append((branch_name, best_feature, left_indices, right_indices))\n",
        "\n",
        "\n",
        "    build_tree_recursive(x, y, left_indices, \"Left\", max_depth, current_depth + 1, tree)\n",
        "    build_tree_recursive(x, y, right_indices, \"Right\", max_depth, current_depth + 1, tree)\n",
        "\n",
        "\n",
        "tree = []\n",
        "\n",
        "build_tree_recursive(x_train, y_train, root_indices, \"Root\", 2, 0, tree)\n",
        "\n",
        "\n",
        "for node in tree:\n",
        "    branch_name = node[0]\n",
        "    if branch_name == \"Root\":\n",
        "        print(\"%s: Split on feature %s\" % (branch_name, node[1]))\n",
        "    else:\n",
        "        if len(node) == 4 and node[1] is not None:\n",
        "            print(\"%s Depth %d, %s: Split on feature %d\" % (branch_name, node[1], node[2], node[3]))\n",
        "        else:\n",
        "            print(\"%s Depth None, %s: Leaf node with indices\" % (branch_name, node[1]))\n",
        "\n",
        "\n"
      ],
      "metadata": {
        "id": "oAncml17Q_Pd",
        "colab": {
          "base_uri": "https://localhost:8080/"
        },
        "outputId": "f62f857a-3f94-495d-f218-203d29b157d4"
      },
      "execution_count": 28,
      "outputs": [
        {
          "output_type": "stream",
          "name": "stdout",
          "text": [
            "Root: Split on feature 2\n",
            "Left Depth None, None: Leaf node with indices\n",
            "Left Depth None, [0, 1, 2, 3, 4, 5, 7, 8, 9]: Leaf node with indices\n",
            "Right Depth None, [6]: Leaf node with indices\n",
            "Right Depth None, None: Leaf node with indices\n",
            "Left Depth None, [0, 1, 2, 3, 4, 5, 7, 8, 9]: Leaf node with indices\n",
            "Right Depth None, [6]: Leaf node with indices\n"
          ]
        }
      ]
    },
    {
      "cell_type": "code",
      "source": [],
      "metadata": {
        "id": "bp0DIDgxV50P"
      },
      "execution_count": 10,
      "outputs": []
    },
    {
      "cell_type": "code",
      "source": [],
      "metadata": {
        "id": "3o87QNEzV52m"
      },
      "execution_count": 11,
      "outputs": []
    },
    {
      "cell_type": "code",
      "source": [
        "print(x_train.shape)"
      ],
      "metadata": {
        "id": "OfGUT2HiV55A",
        "colab": {
          "base_uri": "https://localhost:8080/"
        },
        "outputId": "0963a7e0-f33e-4434-9f5d-5899f184cf6d"
      },
      "execution_count": null,
      "outputs": [
        {
          "output_type": "stream",
          "name": "stdout",
          "text": [
            "(10, 3)\n"
          ]
        }
      ]
    },
    {
      "cell_type": "code",
      "source": [],
      "metadata": {
        "id": "Gj2GCCNMV57f"
      },
      "execution_count": null,
      "outputs": []
    },
    {
      "cell_type": "code",
      "source": [],
      "metadata": {
        "id": "tNdgEZX-V5_u"
      },
      "execution_count": null,
      "outputs": []
    }
  ]
}